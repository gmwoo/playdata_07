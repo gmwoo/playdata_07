{
 "cells": [
  {
   "cell_type": "markdown",
   "id": "91f2eb57",
   "metadata": {},
   "source": [
    "# 시리즈와 데이터프레임 직접 만들기\n",
    "### 데이터 프레임과 시리즈는 리스트나 딕셔너리와 비슷하지만 데이터를 다루는 데 특화되어 있음"
   ]
  },
  {
   "cell_type": "markdown",
   "id": "7fb9beca",
   "metadata": {},
   "source": [
    "### 1. 시리즈 만들기"
   ]
  },
  {
   "cell_type": "code",
   "execution_count": 1,
   "id": "5d6b6422",
   "metadata": {},
   "outputs": [],
   "source": [
    "import pandas as pd"
   ]
  },
  {
   "cell_type": "code",
   "execution_count": 3,
   "id": "22e9d999",
   "metadata": {},
   "outputs": [
    {
     "name": "stdout",
     "output_type": "stream",
     "text": [
      "0    apple\n",
      "1       33\n",
      "dtype: object\n"
     ]
    }
   ],
   "source": [
    "s = pd.Series(['apple', 33])  # 인덱스는 보통 0부터 시작\n",
    "print(s)"
   ]
  },
  {
   "cell_type": "code",
   "execution_count": 5,
   "id": "421425c0",
   "metadata": {},
   "outputs": [
    {
     "name": "stdout",
     "output_type": "stream",
     "text": [
      "0    2023-04-28\n",
      "1          3.14\n",
      "2        encore\n",
      "3           100\n",
      "4          True\n",
      "dtype: object\n",
      "\n",
      "\n",
      "<class 'pandas.core.series.Series'>\n"
     ]
    }
   ],
   "source": [
    "list_data = ['2023-04-28', 3.14, 'encore', 100, True]\n",
    "s = pd.Series(list_data)\n",
    "print(s)\n",
    "print('\\n')\n",
    "print(type(s))"
   ]
  },
  {
   "cell_type": "code",
   "execution_count": 7,
   "id": "88c3da2d",
   "metadata": {},
   "outputs": [
    {
     "name": "stdout",
     "output_type": "stream",
     "text": [
      "RangeIndex(start=0, stop=5, step=1)\n",
      "\n",
      "\n",
      "['2023-04-28' 3.14 'encore' 100 True]\n"
     ]
    }
   ],
   "source": [
    "# 인덱스 배열은 변수 idx에 저장, 데이터 값 배열은 변수 val에 저장\n",
    "idx = s.index\n",
    "val = s.values\n",
    "print(idx)\n",
    "print('\\n')\n",
    "print(val)"
   ]
  },
  {
   "cell_type": "code",
   "execution_count": 8,
   "id": "f429a144",
   "metadata": {},
   "outputs": [
    {
     "name": "stdout",
     "output_type": "stream",
     "text": [
      "a    1\n",
      "b    2\n",
      "c    3\n",
      "dtype: int64\n",
      "<class 'pandas.core.series.Series'>\n"
     ]
    }
   ],
   "source": [
    "# 딕셔너리를 Series() 함수에 전달하면 시리즈 객체로 변환\n",
    "dict_data = {'a':1, 'b':2, 'c':3}\n",
    "s = pd.Series(dict_data)\n",
    "print(s)\n",
    "print(type(s))"
   ]
  },
  {
   "cell_type": "markdown",
   "id": "df0ac8b2",
   "metadata": {},
   "source": [
    "## 2. 시리즈를 생성할 문자열을 인덱스로 지정할 수 있음\n",
    "### 문자열을 인덱스로 지정하려면 Series 메서드의 index 인자를 통해 사용하고자 하는 문자열을 리스트에 담아 전달하면 됨"
   ]
  },
  {
   "cell_type": "code",
   "execution_count": 9,
   "id": "752ac68d",
   "metadata": {},
   "outputs": [
    {
     "name": "stdout",
     "output_type": "stream",
     "text": [
      "Person       Jane\n",
      "Job       student\n",
      "dtype: object\n"
     ]
    }
   ],
   "source": [
    "s = pd.Series(['Jane', 'student'], index=['Person', 'Job'])\n",
    "print(s)"
   ]
  },
  {
   "cell_type": "markdown",
   "id": "3ce26efb",
   "metadata": {},
   "source": [
    "## 3. 딕셔너리로 데이터 프레임 생성\n",
    " * 파이썬의 기본 자료 구조로 데이터 프레임 생성이 가능\n",
    " * 아래의 예제는 딕셔너리로 데이터 프레임을 생성하는 예제\n",
    " * 딕셔너리를 DataFrame 클래스에 전달해야 함\n",
    " * 데이터 프레임의 컬럼은 모두 시리즈임\n",
    " * 아래의 예제는 5개의 시리즈로 구성된 데이터 프레임"
   ]
  },
  {
   "cell_type": "code",
   "execution_count": 13,
   "id": "839c31d8",
   "metadata": {},
   "outputs": [
    {
     "data": {
      "text/html": [
       "<div>\n",
       "<style scoped>\n",
       "    .dataframe tbody tr th:only-of-type {\n",
       "        vertical-align: middle;\n",
       "    }\n",
       "\n",
       "    .dataframe tbody tr th {\n",
       "        vertical-align: top;\n",
       "    }\n",
       "\n",
       "    .dataframe thead th {\n",
       "        text-align: right;\n",
       "    }\n",
       "</style>\n",
       "<table border=\"1\" class=\"dataframe\">\n",
       "  <thead>\n",
       "    <tr style=\"text-align: right;\">\n",
       "      <th></th>\n",
       "      <th>Name</th>\n",
       "      <th>Occupation</th>\n",
       "      <th>Born</th>\n",
       "      <th>Died</th>\n",
       "      <th>Age</th>\n",
       "    </tr>\n",
       "  </thead>\n",
       "  <tbody>\n",
       "    <tr>\n",
       "      <th>0</th>\n",
       "      <td>Rosaline Franklin</td>\n",
       "      <td>Chemist</td>\n",
       "      <td>1920-07-25</td>\n",
       "      <td>1958-04-16</td>\n",
       "      <td>37</td>\n",
       "    </tr>\n",
       "    <tr>\n",
       "      <th>1</th>\n",
       "      <td>William Gosset</td>\n",
       "      <td>Statistician</td>\n",
       "      <td>1876-06-13</td>\n",
       "      <td>1937-10-16</td>\n",
       "      <td>61</td>\n",
       "    </tr>\n",
       "  </tbody>\n",
       "</table>\n",
       "</div>"
      ],
      "text/plain": [
       "                Name    Occupation        Born        Died  Age\n",
       "0  Rosaline Franklin       Chemist  1920-07-25  1958-04-16   37\n",
       "1     William Gosset  Statistician  1876-06-13  1937-10-16   61"
      ]
     },
     "execution_count": 13,
     "metadata": {},
     "output_type": "execute_result"
    }
   ],
   "source": [
    "scientists = pd.DataFrame({\n",
    "    'Name': ['Rosaline Franklin', 'William Gosset'],\n",
    "    'Occupation': ['Chemist', 'Statistician'],\n",
    "    'Born': ['1920-07-25', '1876-06-13'],\n",
    "    'Died': ['1958-04-16', '1937-10-16'],\n",
    "    'Age': [37, 61],\n",
    "})\n",
    "\n",
    "scientists"
   ]
  },
  {
   "cell_type": "markdown",
   "id": "090cd9bc",
   "metadata": {},
   "source": [
    "### columns 인자를 사용하면 데이터 프레임의 열 순서를 지정할 수 있음\n",
    " ##### indecs, columns 지정"
   ]
  },
  {
   "cell_type": "code",
   "execution_count": 19,
   "id": "d7f1f716",
   "metadata": {},
   "outputs": [
    {
     "data": {
      "text/html": [
       "<div>\n",
       "<style scoped>\n",
       "    .dataframe tbody tr th:only-of-type {\n",
       "        vertical-align: middle;\n",
       "    }\n",
       "\n",
       "    .dataframe tbody tr th {\n",
       "        vertical-align: top;\n",
       "    }\n",
       "\n",
       "    .dataframe thead th {\n",
       "        text-align: right;\n",
       "    }\n",
       "</style>\n",
       "<table border=\"1\" class=\"dataframe\">\n",
       "  <thead>\n",
       "    <tr style=\"text-align: right;\">\n",
       "      <th></th>\n",
       "      <th>Occupation</th>\n",
       "      <th>Born</th>\n",
       "      <th>Age</th>\n",
       "      <th>Died</th>\n",
       "    </tr>\n",
       "  </thead>\n",
       "  <tbody>\n",
       "    <tr>\n",
       "      <th>Rosaline Franklin</th>\n",
       "      <td>Chemist</td>\n",
       "      <td>1920-07-25</td>\n",
       "      <td>37</td>\n",
       "      <td>1958-04-16</td>\n",
       "    </tr>\n",
       "    <tr>\n",
       "      <th>William Gosset</th>\n",
       "      <td>Statistician</td>\n",
       "      <td>1876-06-13</td>\n",
       "      <td>61</td>\n",
       "      <td>1937-10-16</td>\n",
       "    </tr>\n",
       "  </tbody>\n",
       "</table>\n",
       "</div>"
      ],
      "text/plain": [
       "                     Occupation        Born  Age        Died\n",
       "Rosaline Franklin       Chemist  1920-07-25   37  1958-04-16\n",
       "William Gosset     Statistician  1876-06-13   61  1937-10-16"
      ]
     },
     "execution_count": 19,
     "metadata": {},
     "output_type": "execute_result"
    }
   ],
   "source": [
    "scientists = pd.DataFrame(\n",
    "    data = {'Occupation': ['Chemist', 'Statistician'],\n",
    "            'Born': ['1920-07-25', '1876-06-13'],\n",
    "            'Died': ['1958-04-16', '1937-10-16'],\n",
    "            'Age': [37, 61]},\n",
    "    index = ['Rosaline Franklin', 'William Gosset'],\n",
    "    columns = ['Occupation', 'Born', 'Age', 'Died']\n",
    "    )\n",
    "\n",
    "scientists"
   ]
  },
  {
   "cell_type": "markdown",
   "id": "454efb7b",
   "metadata": {},
   "source": [
    "## 딕셔너리는 데이터의 순서를 보장하지 않음\n",
    "## 순서가 보장된 딕셔너리를 전달하려면 OrderedDict 클래스 사용"
   ]
  },
  {
   "cell_type": "code",
   "execution_count": 24,
   "id": "380eb564",
   "metadata": {},
   "outputs": [
    {
     "data": {
      "text/html": [
       "<div>\n",
       "<style scoped>\n",
       "    .dataframe tbody tr th:only-of-type {\n",
       "        vertical-align: middle;\n",
       "    }\n",
       "\n",
       "    .dataframe tbody tr th {\n",
       "        vertical-align: top;\n",
       "    }\n",
       "\n",
       "    .dataframe thead th {\n",
       "        text-align: right;\n",
       "    }\n",
       "</style>\n",
       "<table border=\"1\" class=\"dataframe\">\n",
       "  <thead>\n",
       "    <tr style=\"text-align: right;\">\n",
       "      <th></th>\n",
       "      <th>Name</th>\n",
       "      <th>Occupation</th>\n",
       "      <th>Born</th>\n",
       "      <th>Died</th>\n",
       "      <th>Age</th>\n",
       "    </tr>\n",
       "  </thead>\n",
       "  <tbody>\n",
       "    <tr>\n",
       "      <th>0</th>\n",
       "      <td>Rosaline Franklin</td>\n",
       "      <td>Chemist</td>\n",
       "      <td>1920-07-25</td>\n",
       "      <td>1958-04-16</td>\n",
       "      <td>37</td>\n",
       "    </tr>\n",
       "    <tr>\n",
       "      <th>1</th>\n",
       "      <td>William Gosset</td>\n",
       "      <td>Statistician</td>\n",
       "      <td>1876-06-13</td>\n",
       "      <td>1937-10-16</td>\n",
       "      <td>61</td>\n",
       "    </tr>\n",
       "  </tbody>\n",
       "</table>\n",
       "</div>"
      ],
      "text/plain": [
       "                Name    Occupation        Born        Died  Age\n",
       "0  Rosaline Franklin       Chemist  1920-07-25  1958-04-16   37\n",
       "1     William Gosset  Statistician  1876-06-13  1937-10-16   61"
      ]
     },
     "execution_count": 24,
     "metadata": {},
     "output_type": "execute_result"
    }
   ],
   "source": [
    "from collections import OrderedDict\n",
    "\n",
    "scientists = pd.DataFrame(OrderedDict([\n",
    "    ('Name', ['Rosaline Franklin', 'William Gosset']),\n",
    "    ('Occupation', ['Chemist', 'Statistician']),\n",
    "    ('Born', ['1920-07-25', '1876-06-13']),\n",
    "    ('Died', ['1958-04-16', '1937-10-16']),\n",
    "    ('Age', [37, 61])\n",
    "])\n",
    ")\n",
    "\n",
    "scientists"
   ]
  },
  {
   "cell_type": "markdown",
   "id": "823e8f87",
   "metadata": {},
   "source": [
    "## 데이터 프레임에서 시리즈 선택하기"
   ]
  },
  {
   "cell_type": "code",
   "execution_count": 25,
   "id": "82a983cb",
   "metadata": {},
   "outputs": [
    {
     "data": {
      "text/html": [
       "<div>\n",
       "<style scoped>\n",
       "    .dataframe tbody tr th:only-of-type {\n",
       "        vertical-align: middle;\n",
       "    }\n",
       "\n",
       "    .dataframe tbody tr th {\n",
       "        vertical-align: top;\n",
       "    }\n",
       "\n",
       "    .dataframe thead th {\n",
       "        text-align: right;\n",
       "    }\n",
       "</style>\n",
       "<table border=\"1\" class=\"dataframe\">\n",
       "  <thead>\n",
       "    <tr style=\"text-align: right;\">\n",
       "      <th></th>\n",
       "      <th>Occupation</th>\n",
       "      <th>Born</th>\n",
       "      <th>Died</th>\n",
       "      <th>Age</th>\n",
       "    </tr>\n",
       "  </thead>\n",
       "  <tbody>\n",
       "    <tr>\n",
       "      <th>Rosaline Franklin</th>\n",
       "      <td>Chemist</td>\n",
       "      <td>1920-07-25</td>\n",
       "      <td>1958-04-16</td>\n",
       "      <td>37</td>\n",
       "    </tr>\n",
       "    <tr>\n",
       "      <th>William Gosset</th>\n",
       "      <td>Statistician</td>\n",
       "      <td>1876-06-13</td>\n",
       "      <td>1937-10-16</td>\n",
       "      <td>61</td>\n",
       "    </tr>\n",
       "  </tbody>\n",
       "</table>\n",
       "</div>"
      ],
      "text/plain": [
       "                     Occupation        Born        Died  Age\n",
       "Rosaline Franklin       Chemist  1920-07-25  1958-04-16   37\n",
       "William Gosset     Statistician  1876-06-13  1937-10-16   61"
      ]
     },
     "execution_count": 25,
     "metadata": {},
     "output_type": "execute_result"
    }
   ],
   "source": [
    "scientists = pd.DataFrame(\n",
    "    data = {'Occupation': ['Chemist', 'Statistician'],\n",
    "            'Born': ['1920-07-25', '1876-06-13'],\n",
    "            'Died': ['1958-04-16', '1937-10-16'],\n",
    "            'Age': [37, 61]},\n",
    "    index = ['Rosaline Franklin', 'William Gosset'],\n",
    "    columns = ['Occupation', 'Born', 'Died', 'Age']\n",
    "    )\n",
    "\n",
    "scientists"
   ]
  },
  {
   "cell_type": "code",
   "execution_count": 26,
   "id": "3b98fe01",
   "metadata": {},
   "outputs": [
    {
     "name": "stdout",
     "output_type": "stream",
     "text": [
      "<class 'pandas.core.series.Series'>\n"
     ]
    }
   ],
   "source": [
    "first_row = scientists.loc['William Gosset']\n",
    "print(type(first_row))"
   ]
  },
  {
   "cell_type": "markdown",
   "id": "7d6b4952",
   "metadata": {},
   "source": [
    "# Index, values 속성과 keys 메서드 사용하기"
   ]
  },
  {
   "cell_type": "markdown",
   "id": "3afc8650",
   "metadata": {},
   "source": [
    "### 1. Index 속성 사용하기"
   ]
  },
  {
   "cell_type": "code",
   "execution_count": 27,
   "id": "409ad89d",
   "metadata": {},
   "outputs": [
    {
     "name": "stdout",
     "output_type": "stream",
     "text": [
      "Index(['Occupation', 'Born', 'Died', 'Age'], dtype='object')\n"
     ]
    }
   ],
   "source": [
    "print(first_row.index)"
   ]
  },
  {
   "cell_type": "markdown",
   "id": "fc1e594c",
   "metadata": {},
   "source": [
    "### 2. values 속성 사용하기"
   ]
  },
  {
   "cell_type": "code",
   "execution_count": 28,
   "id": "7e3f9b9c",
   "metadata": {},
   "outputs": [
    {
     "name": "stdout",
     "output_type": "stream",
     "text": [
      "['Statistician' '1876-06-13' '1937-10-16' 61]\n"
     ]
    }
   ],
   "source": [
    "print(first_row.values)"
   ]
  },
  {
   "cell_type": "markdown",
   "id": "14327872",
   "metadata": {},
   "source": [
    "### 3. keys 메서드 사용하기"
   ]
  },
  {
   "cell_type": "code",
   "execution_count": 31,
   "id": "9765119b",
   "metadata": {},
   "outputs": [
    {
     "name": "stdout",
     "output_type": "stream",
     "text": [
      "Index(['Occupation', 'Born', 'Died', 'Age'], dtype='object')\n"
     ]
    }
   ],
   "source": [
    "# keys 는 속성이 아닌 메서드, keys 메서드는 index 속성과 같은 역할을 함\n",
    "print(first_row.keys())"
   ]
  },
  {
   "cell_type": "markdown",
   "id": "bea20a1e",
   "metadata": {},
   "source": [
    "### index 속성 응용하기"
   ]
  },
  {
   "cell_type": "code",
   "execution_count": 30,
   "id": "d4c1a09c",
   "metadata": {},
   "outputs": [
    {
     "name": "stdout",
     "output_type": "stream",
     "text": [
      "Occupation\n"
     ]
    }
   ],
   "source": [
    "print(first_row.index[0])"
   ]
  },
  {
   "cell_type": "markdown",
   "id": "0aa5c0c5",
   "metadata": {},
   "source": [
    "# 시리즈의 mean, min, max, std 메서드 사용하기"
   ]
  },
  {
   "cell_type": "code",
   "execution_count": 32,
   "id": "27b8cbc9",
   "metadata": {},
   "outputs": [
    {
     "name": "stdout",
     "output_type": "stream",
     "text": [
      "Rosaline Franklin    37\n",
      "William Gosset       61\n",
      "Name: Age, dtype: int64\n"
     ]
    }
   ],
   "source": [
    "ages = scientists['Age']\n",
    "print(ages)"
   ]
  },
  {
   "cell_type": "code",
   "execution_count": 44,
   "id": "3ca19aa9",
   "metadata": {},
   "outputs": [
    {
     "data": {
      "text/plain": [
       "49.0"
      ]
     },
     "execution_count": 44,
     "metadata": {},
     "output_type": "execute_result"
    }
   ],
   "source": [
    "ages.mean()  # 평균"
   ]
  },
  {
   "cell_type": "code",
   "execution_count": 50,
   "id": "c738dbf2",
   "metadata": {},
   "outputs": [
    {
     "data": {
      "text/plain": [
       "37"
      ]
     },
     "execution_count": 50,
     "metadata": {},
     "output_type": "execute_result"
    }
   ],
   "source": [
    "ages.min()   # 최솟값"
   ]
  },
  {
   "cell_type": "code",
   "execution_count": 49,
   "id": "d3072667",
   "metadata": {},
   "outputs": [
    {
     "data": {
      "text/plain": [
       "61"
      ]
     },
     "execution_count": 49,
     "metadata": {},
     "output_type": "execute_result"
    }
   ],
   "source": [
    "ages.max()  # 최댓값"
   ]
  },
  {
   "cell_type": "code",
   "execution_count": 48,
   "id": "36af155c",
   "metadata": {},
   "outputs": [
    {
     "data": {
      "text/plain": [
       "16.97056274847714"
      ]
     },
     "execution_count": 48,
     "metadata": {},
     "output_type": "execute_result"
    }
   ],
   "source": [
    "ages.std()  # 표준편차"
   ]
  }
 ],
 "metadata": {
  "kernelspec": {
   "display_name": "Python 3 (ipykernel)",
   "language": "python",
   "name": "python3"
  },
  "language_info": {
   "codemirror_mode": {
    "name": "ipython",
    "version": 3
   },
   "file_extension": ".py",
   "mimetype": "text/x-python",
   "name": "python",
   "nbconvert_exporter": "python",
   "pygments_lexer": "ipython3",
   "version": "3.10.9"
  }
 },
 "nbformat": 4,
 "nbformat_minor": 5
}
